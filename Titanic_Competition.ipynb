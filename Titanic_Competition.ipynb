{
  "nbformat": 4,
  "nbformat_minor": 0,
  "metadata": {
    "colab": {
      "name": "Titanic Competition ",
      "provenance": []
    },
    "kernelspec": {
      "name": "python3",
      "display_name": "Python 3"
    }
  },
  "cells": [
    {
      "cell_type": "code",
      "metadata": {
        "id": "H4OygdBchau7"
      },
      "source": [
        "from sklearn import datasets\n",
        "import pandas as pd\n",
        "import numpy as np\n",
        "from pandas.plotting import scatter_matrix\n",
        "from matplotlib import pyplot as plt\n",
        "import seaborn as sns\n",
        "from sklearn.model_selection import train_test_split\n",
        "from sklearn.model_selection import cross_val_score\n",
        "from sklearn.model_selection import StratifiedKFold\n",
        "from sklearn.metrics import classification_report\n",
        "from sklearn.metrics import confusion_matrix\n",
        "from sklearn.metrics import accuracy_score\n",
        "from sklearn.impute import SimpleImputer as Imputer\n",
        "from sklearn.preprocessing import MinMaxScaler\n",
        "from sklearn.linear_model import LinearRegression\n",
        "from sklearn.ensemble import RandomForestRegressor, GradientBoostingRegressor\n",
        "from sklearn.svm import SVR\n",
        "from sklearn.neighbors import KNeighborsRegressor\n",
        "from sklearn.model_selection import RandomizedSearchCV, GridSearchCV\n",
        "from sklearn import tree"
      ],
      "execution_count": null,
      "outputs": []
    },
    {
      "cell_type": "code",
      "metadata": {
        "id": "PZpgOskYjPYP"
      },
      "source": [
        "data = pd.read_csv(\"https://raw.githubusercontent.com/KaiSun19/EnergyScor/data/titanic.csv\")"
      ],
      "execution_count": null,
      "outputs": []
    },
    {
      "cell_type": "code",
      "metadata": {
        "id": "ySCQIj89jVK9"
      },
      "source": [
        "data = data.replace({'Not Available': np.nan})"
      ],
      "execution_count": null,
      "outputs": []
    },
    {
      "cell_type": "code",
      "metadata": {
        "id": "LW3JR25OqWJ_"
      },
      "source": [
        "drop_columns = ['PassengerId','Cabin', 'Ticket', \"Name\"]"
      ],
      "execution_count": null,
      "outputs": []
    },
    {
      "cell_type": "code",
      "metadata": {
        "id": "Mtty1rrdkF9M"
      },
      "source": [
        "# drop index and uncorrelated data \n",
        "data = data.drop(columns = drop_columns, axis=1 )"
      ],
      "execution_count": null,
      "outputs": []
    },
    {
      "cell_type": "code",
      "metadata": {
        "id": "msd48Fyd5R0G",
        "colab": {
          "base_uri": "https://localhost:8080/"
        },
        "outputId": "6a5557c2-5a8b-44f8-fb67-62186d503a14"
      },
      "source": [
        "print(data)"
      ],
      "execution_count": null,
      "outputs": [
        {
          "output_type": "stream",
          "text": [
            "      Survived  Pclass     Sex   Age  SibSp  Parch      Fare Embarked\n",
            "0            0       3    male  22.0      1      0    7.2500        S\n",
            "1            1       1  female  38.0      1      0   71.2833        C\n",
            "2            1       3  female  26.0      0      0    7.9250        S\n",
            "3            1       1  female  35.0      1      0   53.1000        S\n",
            "4            0       3    male  35.0      0      0    8.0500        S\n",
            "...        ...     ...     ...   ...    ...    ...       ...      ...\n",
            "1304         0       3    male   NaN      0      0    8.0500        S\n",
            "1305         1       1  female  39.0      0      0  108.9000        C\n",
            "1306         0       3    male  38.5      0      0    7.2500        S\n",
            "1307         0       3    male   NaN      0      0    8.0500        S\n",
            "1308         0       3    male   NaN      1      1   22.3583        C\n",
            "\n",
            "[1309 rows x 8 columns]\n"
          ],
          "name": "stdout"
        }
      ]
    },
    {
      "cell_type": "code",
      "metadata": {
        "id": "UEuBfYJxjz5V"
      },
      "source": [
        "# select data that is numeric \n",
        "for col in list(data.columns):\n",
        "  if \"Survived\" in col or \"Pclass\" in col or \"Age\" in col or \"SibSp\" in col or \"Parch\" in col or \"Fare\" in col:\n",
        "    data[col] = data[col].astype(float)"
      ],
      "execution_count": null,
      "outputs": []
    },
    {
      "cell_type": "code",
      "metadata": {
        "id": "DAvz41uOncBp"
      },
      "source": [
        "# renaming survived data to make it easier for identification \n",
        "data = data.rename(columns = {\"Survived\" : \"Score\"})"
      ],
      "execution_count": null,
      "outputs": []
    },
    {
      "cell_type": "code",
      "metadata": {
        "id": "TfpcFKJQnq2u"
      },
      "source": [
        "# seeing distributions of values and checking for outliers\n",
        "data.hist(bins=50, figsize=(20,20))"
      ],
      "execution_count": null,
      "outputs": []
    },
    {
      "cell_type": "code",
      "metadata": {
        "id": "u-dud3ruobIa"
      },
      "source": [
        "upper_quartile= data['Fare'].describe()[\"75%\"]\n",
        "lower_quartile= data['Fare'].describe()[\"25%\"]\n",
        "iqr = upper_quartile - lower_quartile\n",
        "data = data[(data['Fare'] > (lower_quartile - 3 * iqr)) &\n",
        "            (data['Fare'] < (upper_quartile + 3 * iqr))]"
      ],
      "execution_count": null,
      "outputs": []
    },
    {
      "cell_type": "code",
      "metadata": {
        "id": "a8fZL3GHpS59"
      },
      "source": [
        "# concetating numerical features and dummy variables \n",
        "numeric_subset = data.select_dtypes(\"number\")\n",
        "categoric_columns = data[[\"Sex\", \"Embarked\"]]\n",
        "categoric_subset = pd.get_dummies(categoric_columns)\n",
        "features = pd.concat([numeric_subset, categoric_subset], axis = 1 )"
      ],
      "execution_count": null,
      "outputs": []
    },
    {
      "cell_type": "code",
      "metadata": {
        "id": "xm4FjDkZtKYy"
      },
      "source": [
        "# drop rows that do not have a score \n",
        "features = features.dropna(subset=[\"Score\"])"
      ],
      "execution_count": null,
      "outputs": []
    },
    {
      "cell_type": "code",
      "metadata": {
        "id": "HWsa3dC6uHPV"
      },
      "source": [
        "# see feature importances\n",
        "correlations = features.corr()['Score'].dropna().sort_values()"
      ],
      "execution_count": null,
      "outputs": []
    },
    {
      "cell_type": "code",
      "metadata": {
        "id": "dRjJ0GTMuJYp"
      },
      "source": [
        "# see correlation matrix between feature variables \n",
        "x = features.drop(columns=[\"Score\"])\n",
        "corr_matrix = x.corr()"
      ],
      "execution_count": null,
      "outputs": []
    },
    {
      "cell_type": "code",
      "metadata": {
        "id": "QBuBof3NwziZ"
      },
      "source": [
        "# drop multi correlated features\n",
        "features = features.drop(columns =  ['Embarked_C', \"Sex_male\"])"
      ],
      "execution_count": null,
      "outputs": []
    },
    {
      "cell_type": "code",
      "metadata": {
        "id": "maGCyk_ozc85"
      },
      "source": [
        "X = features.drop(columns = [\"Score\"])"
      ],
      "execution_count": null,
      "outputs": []
    },
    {
      "cell_type": "code",
      "metadata": {
        "id": "1kLHBqf49KGt"
      },
      "source": [
        "y = features[\"Score\"]"
      ],
      "execution_count": null,
      "outputs": []
    },
    {
      "cell_type": "code",
      "metadata": {
        "id": "FQSXnyNN7uVz"
      },
      "source": [
        "X, X_test, y, y_test = train_test_split(X, y, test_size = 0.3, random_state = 42)"
      ],
      "execution_count": null,
      "outputs": []
    },
    {
      "cell_type": "code",
      "metadata": {
        "id": "V2QP7pAiyw4f"
      },
      "source": [
        "# impute missing data \n",
        "imputer = Imputer(strategy='median')\n",
        "imputer.fit(X)\n",
        "X = imputer.transform(X)\n",
        "X_test = imputer.transform(X_test)"
      ],
      "execution_count": null,
      "outputs": []
    },
    {
      "cell_type": "code",
      "metadata": {
        "id": "89fbolKQ2Ieu"
      },
      "source": [
        "# scale features \n",
        "scaler = MinMaxScaler(feature_range=(0, 1))\n",
        "scaler.fit(X)\n",
        "X = scaler.transform(X)\n",
        "X_test = scaler.transform(X_test)"
      ],
      "execution_count": null,
      "outputs": []
    },
    {
      "cell_type": "code",
      "metadata": {
        "id": "FSFBtkhi0U6G"
      },
      "source": [
        "# confirm that features have no nan values\n",
        "no_val = np.isnan(X).any()"
      ],
      "execution_count": null,
      "outputs": []
    },
    {
      "cell_type": "code",
      "metadata": {
        "id": "QE1179vK1zoY"
      },
      "source": [
        "# create labels \n",
        "y = np.array(y).reshape((-1, ))\n",
        "y_test = np.array(y_test).reshape((-1, ))"
      ],
      "execution_count": null,
      "outputs": []
    },
    {
      "cell_type": "code",
      "metadata": {
        "id": "0jA6A04p2jFf"
      },
      "source": [
        "def mae(y_true, y_pred):\n",
        "    return np.mean(abs(y_true - y_pred))"
      ],
      "execution_count": null,
      "outputs": []
    },
    {
      "cell_type": "code",
      "metadata": {
        "id": "MtUXvkCf8kIq",
        "colab": {
          "base_uri": "https://localhost:8080/"
        },
        "outputId": "dc9de756-bd5d-44db-fb03-9b84fe12e5ed"
      },
      "source": [
        "print(len(y_test))"
      ],
      "execution_count": null,
      "outputs": [
        {
          "output_type": "stream",
          "text": [
            "368\n"
          ],
          "name": "stdout"
        }
      ]
    },
    {
      "cell_type": "code",
      "metadata": {
        "id": "s6fSvmDu8Lgb"
      },
      "source": [
        "def fit_and_evaluate(model):\n",
        "    model.fit(X, y)\n",
        "    model_pred = model.predict(X_test)\n",
        "    model_mae = mae(y_test, model_pred)\n",
        "    return model_mae"
      ],
      "execution_count": null,
      "outputs": []
    },
    {
      "cell_type": "code",
      "metadata": {
        "id": "FiuH9_OR8TMq"
      },
      "source": [
        "# creates instances of models with default parameters and then evaluates them \n",
        "logr = LogisticRegression()\n",
        "logr_mae = fit_and_evaluate(logr)\n",
        "lr = LinearRegression()\n",
        "lr_mae = fit_and_evaluate(lr)\n",
        "svm = SVR(C = 1000, gamma 0.1)\n",
        "svm_mae = fit_and_evaluate(svm)\n",
        "random_forest = RandomForestRegressor(random_state=60)\n",
        "random_forest_mae = fit_and_evaluate(random_forest)\n",
        "gradient_boosted = GradientBoostingRegressor(random_state=60)\n",
        "gradient_boosted_mae = fit_and_evaluate(gradient_boosted)\n",
        "knn = KNeighborsRegressor(n_neighbors=10)\n",
        "knn_mae = fit_and_evaluate(knn)"
      ],
      "execution_count": null,
      "outputs": []
    },
    {
      "cell_type": "code",
      "metadata": {
        "id": "kC7PQMUs9lL6"
      },
      "source": [
        "# creates a dataframe of model mae comparisions\n",
        "model_comparision = pd.DataFrame({\n",
        "    \"model\" : [\"Logistic Regression\", 'Linear Regression', 'Support Vector Machine',\n",
        "                                           'Random Forest', 'Gradient Boosted',\n",
        "                                            'K-Nearest Neighbors'],\n",
        "    \"mae\" : [logr_mae, lr_mae, svm_mae,random_forest_mae, gradient_boosted_mae, knn_mae]\n",
        "})"
      ],
      "execution_count": null,
      "outputs": []
    },
    {
      "cell_type": "code",
      "metadata": {
        "id": "hqqGGTqH9mCs",
        "colab": {
          "base_uri": "https://localhost:8080/",
          "height": 304
        },
        "outputId": "e69cd84a-dc1b-47bc-c0cf-027b6de57957"
      },
      "source": [
        "model_comparision.sort_values(by=\"mae\", ascending=False).plot(x=\"model\", y=\"mae\", kind=\"barh\", color=\"red\", \n",
        "                                                                edgecolor= \"black\")\n",
        "plt.ylabel(''); plt.yticks(size = 14); plt.xlabel('Mean Absolute Error'); plt.xticks(size = 14)\n",
        "plt.title('Model Comparison on Test MAE', size = 20)"
      ],
      "execution_count": null,
      "outputs": [
        {
          "output_type": "display_data",
          "data": {
            "image/png": "[encoded data removed]",
            "text/plain": [
              "<Figure size 432x288 with 1 Axes>"
            ]
          },
          "metadata": {
            "tags": [],
            "needs_background": "light"
          }
        }
      ]
    },
    {
      "cell_type": "code",
      "metadata": {
        "id": "Eg9aLgVC-V0c"
      },
      "source": [
        "# creates a grid for hyperparameters of the logistic regressor \n",
        "C_grid  = { \"C\" : [0.001,0.01,0.1,1,10,100,1000]}\n",
        "model = LogisticRegression()\n",
        "random_cv = RandomizedSearchCV(estimator=model,\n",
        "                               param_distributions=C_grid,\n",
        "                               cv=4, n_iter=25, \n",
        "                               scoring = 'neg_mean_absolute_error',\n",
        "                               n_jobs = -1, verbose = 1, \n",
        "                               return_train_score = True,\n",
        "                               random_state=42)\n",
        "random_cv.fit(X, y)"
      ],
      "execution_count": null,
      "outputs": []
    },
    {
      "cell_type": "code",
      "metadata": {
        "id": "vnezbKGBBn5h"
      },
      "source": [
        "# tuned model \n",
        "model = LogisticRegression(C=100, class_weight=None, dual=False, fit_intercept=True,\n",
        "                   intercept_scaling=1, l1_ratio=None, max_iter=100,\n",
        "                   multi_class='auto', n_jobs=None, penalty='l2',\n",
        "                   random_state=None, solver='lbfgs', tol=0.0001, verbose=0,\n",
        "                   warm_start=False)"
      ],
      "execution_count": null,
      "outputs": []
    },
    {
      "cell_type": "code",
      "metadata": {
        "id": "qg-Ms3o0BqaY"
      },
      "source": [
        "# create updated predictions \n",
        "model.fit(X,y)\n",
        "y_pred = model.predict(X_test)"
      ],
      "execution_count": null,
      "outputs": []
    },
    {
      "cell_type": "code",
      "metadata": {
        "id": "I3wsKD67B1sC"
      },
      "source": [
        "# create actual and predicted counts of positive and negative outcomes\n",
        "pred_counts = np.unique(y_pred, return_counts=True)[1]\n",
        "actual_counts = np.unique(y_test, return_counts=True)[1]"
      ],
      "execution_count": null,
      "outputs": []
    },
    {
      "cell_type": "code",
      "metadata": {
        "id": "6YTbhoHQLkT7",
        "colab": {
          "base_uri": "https://localhost:8080/"
        },
        "outputId": "aa67e58f-2dd8-4b3c-a44a-a70f2a8528f6"
      },
      "source": [
        "# classification report \n",
        "print(classification_report(y_test, y_pred))"
      ],
      "execution_count": null,
      "outputs": [
        {
          "output_type": "stream",
          "text": [
            "              precision    recall  f1-score   support\n",
            "\n",
            "         0.0       0.86      0.95      0.90       240\n",
            "         1.0       0.89      0.70      0.79       128\n",
            "\n",
            "    accuracy                           0.87       368\n",
            "   macro avg       0.87      0.83      0.84       368\n",
            "weighted avg       0.87      0.87      0.86       368\n",
            "\n"
          ],
          "name": "stdout"
        }
      ]
    },
    {
      "cell_type": "code",
      "metadata": {
        "id": "8SRjXFX7C4GB",
        "colab": {
          "base_uri": "https://localhost:8080/",
          "height": 265
        },
        "outputId": "9e0a498a-5e7d-4042-812d-f89ebac9aef2"
      },
      "source": [
        "# bar charts showing counts of actual and predicted outcomes \n",
        "fig, ax = plt.subplots()\n",
        "n_groups = 2 \n",
        "index = np.arange(n_groups)\n",
        "rects1 = plt.bar(index, pred_counts,   label = \"Predicted Counts\")\n",
        "rects2 = plt.bar(index + 2  , actual_counts, label = \"Actual Counts\")\n",
        "plt.xticks(np.arange(4), [0,1,0,1])\n",
        "plt.legend()\n",
        "plt.show()"
      ],
      "execution_count": null,
      "outputs": [
        {
          "output_type": "display_data",
          "data": {
            "image/png": "[encoded data removed]",
            "text/plain": [
              "<Figure size 432x288 with 1 Axes>"
            ]
          },
          "metadata": {
            "tags": [],
            "needs_background": "light"
          }
        }
      ]
    },
    {
      "cell_type": "code",
      "metadata": {
        "id": "Y6UDMPx4IbcL",
        "colab": {
          "base_uri": "https://localhost:8080/"
        },
        "outputId": "3f68edb2-e5b5-49f2-8908-8fbb1399d648"
      },
      "source": [
        "# rates feature importances based on their weightings \n",
        "importances = np.abs(model.coef_[0])\n",
        "feature_list = list(features.columns)[1:]\n",
        "feature_results = pd.DataFrame({\"Features\": feature_list, \n",
        "                                \"Importance\": importances}).sort_values(by=\"Importance\", ascending=False)\n",
        "print(feature_results)"
      ],
      "execution_count": null,
      "outputs": [
        {
          "output_type": "stream",
          "text": [
            "     Features  Importance\n",
            "5  Sex_female    3.621186\n",
            "2       SibSp    3.166166\n",
            "1         Age    2.763609\n",
            "0      Pclass    1.755548\n",
            "4        Fare    1.109088\n",
            "3       Parch    1.038870\n",
            "7  Embarked_S    0.529901\n",
            "6  Embarked_Q    0.044002\n"
          ],
          "name": "stdout"
        }
      ]
    }
  ]
}